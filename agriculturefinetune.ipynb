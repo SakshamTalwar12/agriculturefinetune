{
  "nbformat": 4,
  "nbformat_minor": 0,
  "metadata": {
    "colab": {
      "provenance": [],
      "gpuType": "T4",
      "authorship_tag": "ABX9TyMNtY8LhMzu3zc3GUHZvaf8",
      "include_colab_link": true
    },
    "kernelspec": {
      "name": "python3",
      "display_name": "Python 3"
    },
    "language_info": {
      "name": "python"
    },
    "accelerator": "GPU"
  },
  "cells": [
    {
      "cell_type": "markdown",
      "metadata": {
        "id": "view-in-github",
        "colab_type": "text"
      },
      "source": [
        "<a href=\"https://colab.research.google.com/github/SakshamTalwar12/agriculturefinetune/blob/main/agriculturefinetune.ipynb\" target=\"_parent\"><img src=\"https://colab.research.google.com/assets/colab-badge.svg\" alt=\"Open In Colab\"/></a>"
      ]
    },
    {
      "cell_type": "code",
      "execution_count": null,
      "metadata": {
        "id": "O_8b8RmqkMcp"
      },
      "outputs": [],
      "source": [
        "!pip install -q accelerate==0.21.0 peft==0.4.0 bitsandbytes==0.40.2 transformers==4.31.0 trl==0.4.7"
      ]
    },
    {
      "cell_type": "code",
      "source": [
        "!pip install huggingface_hub"
      ],
      "metadata": {
        "id": "uhVZfFuskbTd"
      },
      "execution_count": null,
      "outputs": []
    },
    {
      "cell_type": "code",
      "source": [
        "pip install torch transformers datasets peft trl bitsandbytes"
      ],
      "metadata": {
        "id": "Vu6ePfLJkeJp"
      },
      "execution_count": null,
      "outputs": []
    },
    {
      "cell_type": "code",
      "source": [
        "import torch\n",
        "from trl import SFTTrainer\n",
        "from peft import LoraConfig\n",
        "from datasets import load_dataset\n",
        "from transformers import (AutoModelForCausalLM, AutoTokenizer, BitsAndBytesConfig, TrainingArguments, pipeline)\n",
        ""
      ],
      "metadata": {
        "id": "LoyWvmZqkg4i"
      },
      "execution_count": null,
      "outputs": []
    },
    {
      "cell_type": "code",
      "source": [
        "llama_model = AutoModelForCausalLM.from_pretrained(pretrained_model_name_or_path = \"soma77/agriculture_advisor\",\n",
        "                                                   quantization_config = BitsAndBytesConfig(load_in_4bit = True,\n",
        "                                                                                            bnb_4bit_compute_dtype = getattr(torch, \"float16\"),\n",
        "                                                                                            bnb_4bit_quant_type = \"nf4\"),  device_map=\"auto\")\n",
        ""
      ],
      "metadata": {
        "id": "7lsXaFN0kkY1"
      },
      "execution_count": null,
      "outputs": []
    },
    {
      "cell_type": "code",
      "source": [
        "llama_model.config.use_cache = False\n",
        "llama_model.config.pretraining_tp = 1"
      ],
      "metadata": {
        "id": "pK9kCRMqk4Sq"
      },
      "execution_count": null,
      "outputs": []
    },
    {
      "cell_type": "code",
      "source": [
        "llama_tokenizer = AutoTokenizer.from_pretrained(pretrained_model_name_or_path = \"soma77/agriculture_advisor\", trust_remote_code = True)\n",
        "llama_tokenizer.pad_token = llama_tokenizer.eos_token\n",
        "llama_tokenizer.padding_side = \"right\""
      ],
      "metadata": {
        "id": "Ru86IFlwm32_"
      },
      "execution_count": null,
      "outputs": []
    },
    {
      "cell_type": "code",
      "source": [
        "training_arguments = TrainingArguments(output_dir = \"./results\", per_device_train_batch_size = 1, max_steps = 100)\n"
      ],
      "metadata": {
        "id": "tJzfhcq9m9FV"
      },
      "execution_count": null,
      "outputs": []
    },
    {
      "cell_type": "code",
      "source": [
        "from datasets import load_dataset\n",
        "\n",
        "dataset = load_dataset(\"YuvrajSingh9886/Agriculture-Soil-QA-Pairs-Dataset\", split=\"train\")\n",
        "print(dataset.column_names)\n"
      ],
      "metadata": {
        "id": "qkYJqwb6nAXP"
      },
      "execution_count": null,
      "outputs": []
    },
    {
      "cell_type": "code",
      "source": [
        "from datasets import load_dataset\n",
        "dataset = load_dataset(\"YuvrajSingh9886/Agriculture-Soil-QA-Pairs-Dataset\", split=\"train\")\n",
        "def format_example(example):\n",
        "    return {\n",
        "        \"text\": (\n",
        "            f\"Context: {example['QUESTION.paragraph']}\\n\"\n",
        "            f\"Question: {example['QUESTION.question']}\\n\"\n",
        "            f\"Answer: {example['ANSWER']}\"\n",
        "        )\n",
        "    }\n",
        "\n",
        "formatted_dataset = dataset.map(format_example, remove_columns=dataset.column_names)\n"
      ],
      "metadata": {
        "id": "DzGAcedPn903"
      },
      "execution_count": null,
      "outputs": []
    },
    {
      "cell_type": "code",
      "source": [
        "llama_sft_trainer = SFTTrainer( model=llama_model, args=training_arguments, train_dataset=formatted_dataset, peft_config=LoraConfig( task_type=\"CAUSAL_LM\", r=64, lora_alpha=16, lora_dropout=0.1))\n"
      ],
      "metadata": {
        "id": "xHVduxiQoSyW"
      },
      "execution_count": null,
      "outputs": []
    },
    {
      "cell_type": "code",
      "source": [
        "llama_sft_trainer.train()"
      ],
      "metadata": {
        "id": "COJDoO5Boi6h"
      },
      "execution_count": null,
      "outputs": []
    },
    {
      "cell_type": "code",
      "source": [
        "user_prompt = \"Please tell me about red soil management\"\n",
        "text_generation_pipeline = pipeline(task = \"text-generation\", model = llama_model, tokenizer = llama_tokenizer, max_length = 300)\n",
        "model_answer = text_generation_pipeline(f\"{user_prompt}\")\n",
        "print(model_answer[0]['generated_text'])"
      ],
      "metadata": {
        "id": "hppOGJmopq5b"
      },
      "execution_count": null,
      "outputs": []
    }
  ]
}